{
 "cells": [
  {
   "cell_type": "markdown",
   "id": "133f45af",
   "metadata": {},
   "source": [
    "### Linear regression"
   ]
  },
  {
   "cell_type": "markdown",
   "id": "ff933f4a",
   "metadata": {},
   "source": [
    "Simple example of liner prediction model how tax depends from count of windows in building.\n",
    "Given assumtions:\n",
    "  - for independent (explanatory) variable - count of  windows in building - it's random number on range (10,50)\n",
    "  - for dependent variable - tax  - it has liner correlation with parametr count of  windows  tax = 256 + 100*windows -  abs(np.random.rand(100, 1))"
   ]
  },
  {
   "cell_type": "code",
   "execution_count": 2,
   "id": "7b1ec7bc",
   "metadata": {},
   "outputs": [],
   "source": [
    "%matplotlib inline"
   ]
  },
  {
   "cell_type": "code",
   "execution_count": 3,
   "id": "053c5f81",
   "metadata": {},
   "outputs": [],
   "source": [
    "import matplotlib.pyplot as plt\n",
    "import numpy as np\n",
    "import pandas as pd\n",
    "import sklearn\n",
    "\n",
    "from sklearn.linear_model import LinearRegression\n",
    "from sklearn.preprocessing import scale\n",
    "\n",
    "from pylab import rcParams\n",
    "rcParams['figure.figsize'] = 10,8"
   ]
  },
  {
   "cell_type": "markdown",
   "id": "cb5387d3",
   "metadata": {},
   "source": [
    "Independent variable data (X)"
   ]
  },
  {
   "cell_type": "code",
   "execution_count": 5,
   "id": "6047f81e",
   "metadata": {},
   "outputs": [],
   "source": [
    "windows = np.random.randint(10,50,(100,1))"
   ]
  },
  {
   "cell_type": "markdown",
   "id": "e3679224",
   "metadata": {},
   "source": [
    "Dependent variable  tax (Y)"
   ]
  },
  {
   "cell_type": "code",
   "execution_count": 6,
   "id": "7bae6c38",
   "metadata": {},
   "outputs": [
    {
     "data": {
      "text/plain": [
       "array([[4155.17139988],\n",
       "       [4455.78527761],\n",
       "       [4755.20912296],\n",
       "       [2155.31714813],\n",
       "       [1355.08146885],\n",
       "       [3555.06428814],\n",
       "       [5055.64005269],\n",
       "       [4755.87392073],\n",
       "       [3355.58985655]])"
      ]
     },
     "execution_count": 6,
     "metadata": {},
     "output_type": "execute_result"
    }
   ],
   "source": [
    "tax = 256 + 100*windows - abs(np.random.rand(100, 1))\n",
    "tax[1:10]"
   ]
  },
  {
   "cell_type": "code",
   "execution_count": 7,
   "id": "43fd838c",
   "metadata": {},
   "outputs": [
    {
     "data": {
      "image/png": "[encoded data removed]",
      "text/plain": [
       "<Figure size 720x576 with 1 Axes>"
      ]
     },
     "metadata": {
      "needs_background": "light"
     },
     "output_type": "display_data"
    }
   ],
   "source": [
    "plt.plot(windows, tax, 'r^')\n",
    "plt.xlabel('Windows')\n",
    "plt.ylabel('Tax')\n",
    "plt.show()"
   ]
  },
  {
   "cell_type": "code",
   "execution_count": 10,
   "id": "d1ea7896",
   "metadata": {},
   "outputs": [],
   "source": [
    "X = windows\n",
    "y = tax"
   ]
  },
  {
   "cell_type": "code",
   "execution_count": 11,
   "id": "c9989773",
   "metadata": {},
   "outputs": [],
   "source": [
    "LinReg = LinearRegression()\n",
    "result = LinReg.fit(X,y)"
   ]
  },
  {
   "cell_type": "markdown",
   "id": "fdb41d4d",
   "metadata": {},
   "source": [
    "Print regression coefficient  and score"
   ]
  },
  {
   "cell_type": "code",
   "execution_count": 12,
   "id": "62582b8e",
   "metadata": {},
   "outputs": [
    {
     "name": "stdout",
     "output_type": "stream",
     "text": [
      "[255.45207137] [[100.0029008]]\n",
      "0.9999999250826757\n"
     ]
    }
   ],
   "source": [
    "print(LinReg.intercept_, LinReg.coef_)     # regression coef.\n",
    "print(LinReg.score(X, y))                  # score  - it's R2 determination coefficient "
   ]
  },
  {
   "cell_type": "markdown",
   "id": "dd3a8d44",
   "metadata": {},
   "source": [
    "Test model on test dataset"
   ]
  },
  {
   "cell_type": "code",
   "execution_count": 13,
   "id": "35c12e91",
   "metadata": {},
   "outputs": [],
   "source": [
    "X_new = np.random.randint(3,10,(100, 1))"
   ]
  },
  {
   "cell_type": "code",
   "execution_count": 16,
   "id": "2c1e00d9",
   "metadata": {},
   "outputs": [],
   "source": [
    "y_new = LinReg.predict(X_new)              # method predict - calc Y_new with regression coefficient for X_new"
   ]
  },
  {
   "cell_type": "code",
   "execution_count": 19,
   "id": "af5bdaf4",
   "metadata": {},
   "outputs": [
    {
     "name": "stdout",
     "output_type": "stream",
     "text": [
      "[[6]\n",
      " [4]\n",
      " [5]]\n",
      "[[855.46947616]\n",
      " [655.46367456]\n",
      " [755.46657536]]\n"
     ]
    }
   ],
   "source": [
    "print(X_new[:3])\n",
    "print(y_new[:3])"
   ]
  },
  {
   "cell_type": "code",
   "execution_count": 20,
   "id": "b2924e5c",
   "metadata": {},
   "outputs": [
    {
     "data": {
      "image/png": "[encoded data removed]",
      "text/plain": [
       "<Figure size 720x576 with 1 Axes>"
      ]
     },
     "metadata": {
      "needs_background": "light"
     },
     "output_type": "display_data"
    }
   ],
   "source": [
    "plt.plot(X_new, y_new, 'r^')\n",
    "plt.xlabel('Windows')\n",
    "plt.ylabel('Tax')\n",
    "plt.show()"
   ]
  },
  {
   "cell_type": "code",
   "execution_count": 21,
   "id": "9e4b3b95",
   "metadata": {},
   "outputs": [
    {
     "name": "stdout",
     "output_type": "stream",
     "text": [
      "1.0\n"
     ]
    }
   ],
   "source": [
    "print(LinReg.score(X_new, y_new))"
   ]
  },
  {
   "cell_type": "code",
   "execution_count": null,
   "id": "b9880898",
   "metadata": {},
   "outputs": [],
   "source": []
  }
 ],
 "metadata": {
  "kernelspec": {
   "display_name": "Python 3 (ipykernel)",
   "language": "python",
   "name": "python3"
  },
  "language_info": {
   "codemirror_mode": {
    "name": "ipython",
    "version": 3
   },
   "file_extension": ".py",
   "mimetype": "text/x-python",
   "name": "python",
   "nbconvert_exporter": "python",
   "pygments_lexer": "ipython3",
   "version": "3.10.5"
  }
 },
 "nbformat": 4,
 "nbformat_minor": 5
}
